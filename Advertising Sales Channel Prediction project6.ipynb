{
 "cells": [
  {
   "cell_type": "markdown",
   "metadata": {},
   "source": [
    "# Advertising Sales Channel Prediction"
   ]
  },
  {
   "cell_type": "markdown",
   "metadata": {},
   "source": [
    "Problem Statement:\n",
    "Sales Channel Prediction Case Study  \n",
    "\n",
    "When a company enters a market, the distribution strategy and channel it uses are keys to its success in the market, as well as market know-how and customer knowledge and understanding. Because an effective distribution strategy under efficient supply-chain management opens doors for attaining competitive advantage and strong brand equity in the market, it is a component of the marketing mix that cannot be ignored . \n",
    "\n",
    "The distribution strategy and the channel design have to be right the first time. The case study of Sales channel includes the detailed study of TV, radio and newspaper channel. The predict the total sales generated from all the sales channel.  "
   ]
  },
  {
   "cell_type": "markdown",
   "metadata": {},
   "source": [
    "Input variable= TV,radio,newspaper \n",
    "Output variable=sales"
   ]
  },
  {
   "cell_type": "markdown",
   "metadata": {},
   "source": [
    "# Importing Libraries\n"
   ]
  },
  {
   "cell_type": "code",
   "execution_count": 1,
   "metadata": {},
   "outputs": [],
   "source": [
    "import numpy as np\n",
    "import pandas as pd\n",
    "import seaborn as sns\n",
    "import matplotlib.pyplot as plt\n",
    "from scipy.stats import zscore\n",
    "from sklearn.linear_model import LinearRegression\n",
    "from sklearn.linear_model import Ridge\n",
    "from sklearn.tree import DecisionTreeRegressor\n",
    "from sklearn.ensemble import RandomForestRegressor\n",
    "from sklearn.ensemble import AdaBoostRegressor\n",
    "from sklearn.metrics import accuracy_score,confusion_matrix,classification_report\n",
    "from sklearn.preprocessing import MinMaxScaler\n",
    "from sklearn.preprocessing import StandardScaler\n",
    "from sklearn.preprocessing import OrdinalEncoder\n",
    "from sklearn.preprocessing import PowerTransformer\n",
    "from sklearn.model_selection import train_test_split\n",
    "from sklearn.model_selection import cross_val_score\n",
    "import joblib\n",
    "import warnings\n",
    "warnings.filterwarnings('ignore')"
   ]
  },
  {
   "cell_type": "code",
   "execution_count": 2,
   "metadata": {},
   "outputs": [],
   "source": [
    "#Loading the data\n",
    "\n",
    "data=pd.read_csv(\"advertising.csv\")"
   ]
  },
  {
   "cell_type": "code",
   "execution_count": 3,
   "metadata": {},
   "outputs": [
    {
     "data": {
      "text/html": [
       "<div>\n",
       "<style scoped>\n",
       "    .dataframe tbody tr th:only-of-type {\n",
       "        vertical-align: middle;\n",
       "    }\n",
       "\n",
       "    .dataframe tbody tr th {\n",
       "        vertical-align: top;\n",
       "    }\n",
       "\n",
       "    .dataframe thead th {\n",
       "        text-align: right;\n",
       "    }\n",
       "</style>\n",
       "<table border=\"1\" class=\"dataframe\">\n",
       "  <thead>\n",
       "    <tr style=\"text-align: right;\">\n",
       "      <th></th>\n",
       "      <th>Unnamed: 0</th>\n",
       "      <th>TV</th>\n",
       "      <th>radio</th>\n",
       "      <th>newspaper</th>\n",
       "      <th>sales</th>\n",
       "    </tr>\n",
       "  </thead>\n",
       "  <tbody>\n",
       "    <tr>\n",
       "      <th>0</th>\n",
       "      <td>1</td>\n",
       "      <td>230.1</td>\n",
       "      <td>37.8</td>\n",
       "      <td>69.2</td>\n",
       "      <td>22.1</td>\n",
       "    </tr>\n",
       "    <tr>\n",
       "      <th>1</th>\n",
       "      <td>2</td>\n",
       "      <td>44.5</td>\n",
       "      <td>39.3</td>\n",
       "      <td>45.1</td>\n",
       "      <td>10.4</td>\n",
       "    </tr>\n",
       "    <tr>\n",
       "      <th>2</th>\n",
       "      <td>3</td>\n",
       "      <td>17.2</td>\n",
       "      <td>45.9</td>\n",
       "      <td>69.3</td>\n",
       "      <td>9.3</td>\n",
       "    </tr>\n",
       "    <tr>\n",
       "      <th>3</th>\n",
       "      <td>4</td>\n",
       "      <td>151.5</td>\n",
       "      <td>41.3</td>\n",
       "      <td>58.5</td>\n",
       "      <td>18.5</td>\n",
       "    </tr>\n",
       "    <tr>\n",
       "      <th>4</th>\n",
       "      <td>5</td>\n",
       "      <td>180.8</td>\n",
       "      <td>10.8</td>\n",
       "      <td>58.4</td>\n",
       "      <td>12.9</td>\n",
       "    </tr>\n",
       "    <tr>\n",
       "      <th>...</th>\n",
       "      <td>...</td>\n",
       "      <td>...</td>\n",
       "      <td>...</td>\n",
       "      <td>...</td>\n",
       "      <td>...</td>\n",
       "    </tr>\n",
       "    <tr>\n",
       "      <th>195</th>\n",
       "      <td>196</td>\n",
       "      <td>38.2</td>\n",
       "      <td>3.7</td>\n",
       "      <td>13.8</td>\n",
       "      <td>7.6</td>\n",
       "    </tr>\n",
       "    <tr>\n",
       "      <th>196</th>\n",
       "      <td>197</td>\n",
       "      <td>94.2</td>\n",
       "      <td>4.9</td>\n",
       "      <td>8.1</td>\n",
       "      <td>9.7</td>\n",
       "    </tr>\n",
       "    <tr>\n",
       "      <th>197</th>\n",
       "      <td>198</td>\n",
       "      <td>177.0</td>\n",
       "      <td>9.3</td>\n",
       "      <td>6.4</td>\n",
       "      <td>12.8</td>\n",
       "    </tr>\n",
       "    <tr>\n",
       "      <th>198</th>\n",
       "      <td>199</td>\n",
       "      <td>283.6</td>\n",
       "      <td>42.0</td>\n",
       "      <td>66.2</td>\n",
       "      <td>25.5</td>\n",
       "    </tr>\n",
       "    <tr>\n",
       "      <th>199</th>\n",
       "      <td>200</td>\n",
       "      <td>232.1</td>\n",
       "      <td>8.6</td>\n",
       "      <td>8.7</td>\n",
       "      <td>13.4</td>\n",
       "    </tr>\n",
       "  </tbody>\n",
       "</table>\n",
       "<p>200 rows × 5 columns</p>\n",
       "</div>"
      ],
      "text/plain": [
       "     Unnamed: 0     TV  radio  newspaper  sales\n",
       "0             1  230.1   37.8       69.2   22.1\n",
       "1             2   44.5   39.3       45.1   10.4\n",
       "2             3   17.2   45.9       69.3    9.3\n",
       "3             4  151.5   41.3       58.5   18.5\n",
       "4             5  180.8   10.8       58.4   12.9\n",
       "..          ...    ...    ...        ...    ...\n",
       "195         196   38.2    3.7       13.8    7.6\n",
       "196         197   94.2    4.9        8.1    9.7\n",
       "197         198  177.0    9.3        6.4   12.8\n",
       "198         199  283.6   42.0       66.2   25.5\n",
       "199         200  232.1    8.6        8.7   13.4\n",
       "\n",
       "[200 rows x 5 columns]"
      ]
     },
     "execution_count": 3,
     "metadata": {},
     "output_type": "execute_result"
    }
   ],
   "source": [
    "data"
   ]
  },
  {
   "cell_type": "code",
   "execution_count": 4,
   "metadata": {},
   "outputs": [],
   "source": [
    "data.drop(\"Unnamed: 0\",axis=1,inplace=True)"
   ]
  },
  {
   "cell_type": "code",
   "execution_count": 5,
   "metadata": {},
   "outputs": [
    {
     "data": {
      "text/html": [
       "<div>\n",
       "<style scoped>\n",
       "    .dataframe tbody tr th:only-of-type {\n",
       "        vertical-align: middle;\n",
       "    }\n",
       "\n",
       "    .dataframe tbody tr th {\n",
       "        vertical-align: top;\n",
       "    }\n",
       "\n",
       "    .dataframe thead th {\n",
       "        text-align: right;\n",
       "    }\n",
       "</style>\n",
       "<table border=\"1\" class=\"dataframe\">\n",
       "  <thead>\n",
       "    <tr style=\"text-align: right;\">\n",
       "      <th></th>\n",
       "      <th>TV</th>\n",
       "      <th>radio</th>\n",
       "      <th>newspaper</th>\n",
       "      <th>sales</th>\n",
       "    </tr>\n",
       "  </thead>\n",
       "  <tbody>\n",
       "    <tr>\n",
       "      <th>0</th>\n",
       "      <td>230.1</td>\n",
       "      <td>37.8</td>\n",
       "      <td>69.2</td>\n",
       "      <td>22.1</td>\n",
       "    </tr>\n",
       "    <tr>\n",
       "      <th>1</th>\n",
       "      <td>44.5</td>\n",
       "      <td>39.3</td>\n",
       "      <td>45.1</td>\n",
       "      <td>10.4</td>\n",
       "    </tr>\n",
       "    <tr>\n",
       "      <th>2</th>\n",
       "      <td>17.2</td>\n",
       "      <td>45.9</td>\n",
       "      <td>69.3</td>\n",
       "      <td>9.3</td>\n",
       "    </tr>\n",
       "    <tr>\n",
       "      <th>3</th>\n",
       "      <td>151.5</td>\n",
       "      <td>41.3</td>\n",
       "      <td>58.5</td>\n",
       "      <td>18.5</td>\n",
       "    </tr>\n",
       "    <tr>\n",
       "      <th>4</th>\n",
       "      <td>180.8</td>\n",
       "      <td>10.8</td>\n",
       "      <td>58.4</td>\n",
       "      <td>12.9</td>\n",
       "    </tr>\n",
       "  </tbody>\n",
       "</table>\n",
       "</div>"
      ],
      "text/plain": [
       "      TV  radio  newspaper  sales\n",
       "0  230.1   37.8       69.2   22.1\n",
       "1   44.5   39.3       45.1   10.4\n",
       "2   17.2   45.9       69.3    9.3\n",
       "3  151.5   41.3       58.5   18.5\n",
       "4  180.8   10.8       58.4   12.9"
      ]
     },
     "execution_count": 5,
     "metadata": {},
     "output_type": "execute_result"
    }
   ],
   "source": [
    "data.head()"
   ]
  },
  {
   "cell_type": "code",
   "execution_count": 8,
   "metadata": {},
   "outputs": [
    {
     "data": {
      "text/plain": [
       "TV           float64\n",
       "radio        float64\n",
       "newspaper    float64\n",
       "sales        float64\n",
       "dtype: object"
      ]
     },
     "execution_count": 8,
     "metadata": {},
     "output_type": "execute_result"
    }
   ],
   "source": [
    "data.dtypes"
   ]
  },
  {
   "cell_type": "markdown",
   "metadata": {},
   "source": [
    "The datatypes of feature and the outcome column is float"
   ]
  },
  {
   "cell_type": "code",
   "execution_count": 9,
   "metadata": {},
   "outputs": [
    {
     "name": "stdout",
     "output_type": "stream",
     "text": [
      "<class 'pandas.core.frame.DataFrame'>\n",
      "RangeIndex: 200 entries, 0 to 199\n",
      "Data columns (total 4 columns):\n",
      " #   Column     Non-Null Count  Dtype  \n",
      "---  ------     --------------  -----  \n",
      " 0   TV         200 non-null    float64\n",
      " 1   radio      200 non-null    float64\n",
      " 2   newspaper  200 non-null    float64\n",
      " 3   sales      200 non-null    float64\n",
      "dtypes: float64(4)\n",
      "memory usage: 6.4 KB\n"
     ]
    }
   ],
   "source": [
    "data.info()"
   ]
  },
  {
   "cell_type": "code",
   "execution_count": 11,
   "metadata": {},
   "outputs": [
    {
     "data": {
      "text/plain": [
       "(200, 4)"
      ]
     },
     "execution_count": 11,
     "metadata": {},
     "output_type": "execute_result"
    }
   ],
   "source": [
    "data.shape"
   ]
  },
  {
   "cell_type": "markdown",
   "metadata": {},
   "source": [
    "There are 200 rows and 4 columns"
   ]
  },
  {
   "cell_type": "code",
   "execution_count": 12,
   "metadata": {},
   "outputs": [
    {
     "data": {
      "text/plain": [
       "Index(['TV', 'radio', 'newspaper', 'sales'], dtype='object')"
      ]
     },
     "execution_count": 12,
     "metadata": {},
     "output_type": "execute_result"
    }
   ],
   "source": [
    "data.columns"
   ]
  },
  {
   "cell_type": "markdown",
   "metadata": {},
   "source": [
    "# Missing values"
   ]
  },
  {
   "cell_type": "code",
   "execution_count": 13,
   "metadata": {},
   "outputs": [
    {
     "data": {
      "text/plain": [
       "TV           0\n",
       "radio        0\n",
       "newspaper    0\n",
       "sales        0\n",
       "dtype: int64"
      ]
     },
     "execution_count": 13,
     "metadata": {},
     "output_type": "execute_result"
    }
   ],
   "source": [
    "data.isnull().sum()"
   ]
  },
  {
   "cell_type": "code",
   "execution_count": 14,
   "metadata": {},
   "outputs": [
    {
     "data": {
      "image/png": "[encoded data removed]",
      "text/plain": [
       "<Figure size 720x576 with 2 Axes>"
      ]
     },
     "metadata": {
      "needs_background": "light"
     },
     "output_type": "display_data"
    }
   ],
   "source": [
    "# heatmap on null values\n",
    "plt.figure(figsize=[10,8])\n",
    "sns.heatmap(data.isnull())\n",
    "plt.title(\"Null Values\")\n",
    "plt.show()"
   ]
  },
  {
   "cell_type": "markdown",
   "metadata": {},
   "source": [
    "There are no missing values in the dataset\n",
    "\n"
   ]
  },
  {
   "cell_type": "markdown",
   "metadata": {},
   "source": [
    "# Statistics summary"
   ]
  },
  {
   "cell_type": "code",
   "execution_count": 15,
   "metadata": {},
   "outputs": [
    {
     "data": {
      "text/html": [
       "<div>\n",
       "<style scoped>\n",
       "    .dataframe tbody tr th:only-of-type {\n",
       "        vertical-align: middle;\n",
       "    }\n",
       "\n",
       "    .dataframe tbody tr th {\n",
       "        vertical-align: top;\n",
       "    }\n",
       "\n",
       "    .dataframe thead th {\n",
       "        text-align: right;\n",
       "    }\n",
       "</style>\n",
       "<table border=\"1\" class=\"dataframe\">\n",
       "  <thead>\n",
       "    <tr style=\"text-align: right;\">\n",
       "      <th></th>\n",
       "      <th>TV</th>\n",
       "      <th>radio</th>\n",
       "      <th>newspaper</th>\n",
       "      <th>sales</th>\n",
       "    </tr>\n",
       "  </thead>\n",
       "  <tbody>\n",
       "    <tr>\n",
       "      <th>count</th>\n",
       "      <td>200.000000</td>\n",
       "      <td>200.000000</td>\n",
       "      <td>200.000000</td>\n",
       "      <td>200.000000</td>\n",
       "    </tr>\n",
       "    <tr>\n",
       "      <th>mean</th>\n",
       "      <td>147.042500</td>\n",
       "      <td>23.264000</td>\n",
       "      <td>30.554000</td>\n",
       "      <td>14.022500</td>\n",
       "    </tr>\n",
       "    <tr>\n",
       "      <th>std</th>\n",
       "      <td>85.854236</td>\n",
       "      <td>14.846809</td>\n",
       "      <td>21.778621</td>\n",
       "      <td>5.217457</td>\n",
       "    </tr>\n",
       "    <tr>\n",
       "      <th>min</th>\n",
       "      <td>0.700000</td>\n",
       "      <td>0.000000</td>\n",
       "      <td>0.300000</td>\n",
       "      <td>1.600000</td>\n",
       "    </tr>\n",
       "    <tr>\n",
       "      <th>25%</th>\n",
       "      <td>74.375000</td>\n",
       "      <td>9.975000</td>\n",
       "      <td>12.750000</td>\n",
       "      <td>10.375000</td>\n",
       "    </tr>\n",
       "    <tr>\n",
       "      <th>50%</th>\n",
       "      <td>149.750000</td>\n",
       "      <td>22.900000</td>\n",
       "      <td>25.750000</td>\n",
       "      <td>12.900000</td>\n",
       "    </tr>\n",
       "    <tr>\n",
       "      <th>75%</th>\n",
       "      <td>218.825000</td>\n",
       "      <td>36.525000</td>\n",
       "      <td>45.100000</td>\n",
       "      <td>17.400000</td>\n",
       "    </tr>\n",
       "    <tr>\n",
       "      <th>max</th>\n",
       "      <td>296.400000</td>\n",
       "      <td>49.600000</td>\n",
       "      <td>114.000000</td>\n",
       "      <td>27.000000</td>\n",
       "    </tr>\n",
       "  </tbody>\n",
       "</table>\n",
       "</div>"
      ],
      "text/plain": [
       "               TV       radio   newspaper       sales\n",
       "count  200.000000  200.000000  200.000000  200.000000\n",
       "mean   147.042500   23.264000   30.554000   14.022500\n",
       "std     85.854236   14.846809   21.778621    5.217457\n",
       "min      0.700000    0.000000    0.300000    1.600000\n",
       "25%     74.375000    9.975000   12.750000   10.375000\n",
       "50%    149.750000   22.900000   25.750000   12.900000\n",
       "75%    218.825000   36.525000   45.100000   17.400000\n",
       "max    296.400000   49.600000  114.000000   27.000000"
      ]
     },
     "execution_count": 15,
     "metadata": {},
     "output_type": "execute_result"
    }
   ],
   "source": [
    "data.describe()"
   ]
  },
  {
   "cell_type": "code",
   "execution_count": 16,
   "metadata": {},
   "outputs": [
    {
     "data": {
      "text/plain": [
       "<matplotlib.axes._subplots.AxesSubplot at 0x186d063aee0>"
      ]
     },
     "execution_count": 16,
     "metadata": {},
     "output_type": "execute_result"
    },
    {
     "data": {
      "image/png": "[encoded data removed]",
      "text/plain": [
       "<Figure size 720x576 with 2 Axes>"
      ]
     },
     "metadata": {
      "needs_background": "light"
     },
     "output_type": "display_data"
    }
   ],
   "source": [
    "plt.figure(figsize=(10,8))\n",
    "sns.heatmap(data.describe(),annot=True,linewidths=0.1,linecolor=\"black\",fmt=\"0.2f\")"
   ]
  },
  {
   "cell_type": "markdown",
   "metadata": {},
   "source": [
    "observation: High investment is made on TV. There will be possible outliers in newspaper or tv. Mean and median looks fine."
   ]
  },
  {
   "cell_type": "code",
   "execution_count": 17,
   "metadata": {},
   "outputs": [
    {
     "data": {
      "text/plain": [
       "array([22.1, 10.4,  9.3, 18.5, 12.9,  7.2, 11.8, 13.2,  4.8, 10.6,  8.6,\n",
       "       17.4,  9.2,  9.7, 19. , 22.4, 12.5, 24.4, 11.3, 14.6, 18. ,  5.6,\n",
       "       15.5, 12. , 15. , 15.9, 18.9, 10.5, 21.4, 11.9,  9.6,  9.5, 12.8,\n",
       "       25.4, 14.7, 10.1, 21.5, 16.6, 17.1, 20.7,  8.5, 14.9, 23.2, 14.8,\n",
       "       11.4, 10.7, 22.6, 21.2, 20.2, 23.7,  5.5, 23.8, 18.4,  8.1, 24.2,\n",
       "       15.7, 14. , 13.4, 22.3, 18.3, 12.4,  8.8, 11. , 17. ,  8.7,  6.9,\n",
       "       14.2,  5.3, 12.3, 13.6, 21.7, 15.2, 16. , 16.7, 11.2,  7.3, 19.4,\n",
       "       22.2, 11.5, 16.9, 11.7, 17.2, 19.2, 19.8, 21.8, 14.1, 12.6, 12.2,\n",
       "        9.4,  6.6,  7. , 11.6, 19.7, 24.7,  1.6, 12.7,  5.7, 19.6, 10.8,\n",
       "       20.8, 10.9, 20.1, 10.3, 16.1, 15.6,  3.2, 15.3, 14.4, 13.3,  8. ,\n",
       "        8.4, 14.5,  7.6, 27. , 26.2, 17.6, 17.3,  6.7,  9.9,  5.9, 25.5])"
      ]
     },
     "execution_count": 17,
     "metadata": {},
     "output_type": "execute_result"
    }
   ],
   "source": [
    "#exploring data variable\n",
    "data.sales.unique()"
   ]
  },
  {
   "cell_type": "markdown",
   "metadata": {},
   "source": [
    "It is a continous data . So regression model will be used"
   ]
  },
  {
   "cell_type": "markdown",
   "metadata": {},
   "source": [
    "# Correlation Check"
   ]
  },
  {
   "cell_type": "code",
   "execution_count": 21,
   "metadata": {},
   "outputs": [],
   "source": [
    "datacor=data.corr()"
   ]
  },
  {
   "cell_type": "code",
   "execution_count": 22,
   "metadata": {},
   "outputs": [
    {
     "data": {
      "text/html": [
       "<div>\n",
       "<style scoped>\n",
       "    .dataframe tbody tr th:only-of-type {\n",
       "        vertical-align: middle;\n",
       "    }\n",
       "\n",
       "    .dataframe tbody tr th {\n",
       "        vertical-align: top;\n",
       "    }\n",
       "\n",
       "    .dataframe thead th {\n",
       "        text-align: right;\n",
       "    }\n",
       "</style>\n",
       "<table border=\"1\" class=\"dataframe\">\n",
       "  <thead>\n",
       "    <tr style=\"text-align: right;\">\n",
       "      <th></th>\n",
       "      <th>TV</th>\n",
       "      <th>radio</th>\n",
       "      <th>newspaper</th>\n",
       "      <th>sales</th>\n",
       "    </tr>\n",
       "  </thead>\n",
       "  <tbody>\n",
       "    <tr>\n",
       "      <th>TV</th>\n",
       "      <td>1.000000</td>\n",
       "      <td>0.054809</td>\n",
       "      <td>0.056648</td>\n",
       "      <td>0.782224</td>\n",
       "    </tr>\n",
       "    <tr>\n",
       "      <th>radio</th>\n",
       "      <td>0.054809</td>\n",
       "      <td>1.000000</td>\n",
       "      <td>0.354104</td>\n",
       "      <td>0.576223</td>\n",
       "    </tr>\n",
       "    <tr>\n",
       "      <th>newspaper</th>\n",
       "      <td>0.056648</td>\n",
       "      <td>0.354104</td>\n",
       "      <td>1.000000</td>\n",
       "      <td>0.228299</td>\n",
       "    </tr>\n",
       "    <tr>\n",
       "      <th>sales</th>\n",
       "      <td>0.782224</td>\n",
       "      <td>0.576223</td>\n",
       "      <td>0.228299</td>\n",
       "      <td>1.000000</td>\n",
       "    </tr>\n",
       "  </tbody>\n",
       "</table>\n",
       "</div>"
      ],
      "text/plain": [
       "                 TV     radio  newspaper     sales\n",
       "TV         1.000000  0.054809   0.056648  0.782224\n",
       "radio      0.054809  1.000000   0.354104  0.576223\n",
       "newspaper  0.056648  0.354104   1.000000  0.228299\n",
       "sales      0.782224  0.576223   0.228299  1.000000"
      ]
     },
     "execution_count": 22,
     "metadata": {},
     "output_type": "execute_result"
    }
   ],
   "source": [
    "data.corr()"
   ]
  },
  {
   "cell_type": "code",
   "execution_count": 23,
   "metadata": {},
   "outputs": [
    {
     "data": {
      "text/plain": [
       "<matplotlib.axes._subplots.AxesSubplot at 0x186d6784c40>"
      ]
     },
     "execution_count": 23,
     "metadata": {},
     "output_type": "execute_result"
    },
    {
     "data": {
      "image/png": "[encoded data removed]",
      "text/plain": [
       "<Figure size 720x432 with 2 Axes>"
      ]
     },
     "metadata": {
      "needs_background": "light"
     },
     "output_type": "display_data"
    }
   ],
   "source": [
    "plt.figure(figsize=(10,6))\n",
    "sns.heatmap(datacor,cmap='Blues',annot=True)"
   ]
  },
  {
   "cell_type": "code",
   "execution_count": 24,
   "metadata": {},
   "outputs": [
    {
     "data": {
      "image/png": "[encoded data removed]",
      "text/plain": [
       "<Figure size 720x576 with 1 Axes>"
      ]
     },
     "metadata": {
      "needs_background": "light"
     },
     "output_type": "display_data"
    }
   ],
   "source": [
    "plt.figure(figsize=(10,8))\n",
    "data.corr()['sales'].sort_values(ascending=False).drop(['sales']).plot(kind='bar',color='c')\n",
    "plt.xlabel(\"Feature\",fontsize=14)\n",
    "plt.ylabel(\"column with target names\",fontsize=14)\n",
    "plt.title(\"Correlation\",fontsize=18)\n",
    "plt.show()"
   ]
  },
  {
   "cell_type": "markdown",
   "metadata": {},
   "source": [
    "All the feature columns are positvely correlated with the label sales"
   ]
  },
  {
   "cell_type": "markdown",
   "metadata": {},
   "source": [
    "# Distribution of data : Skewness"
   ]
  },
  {
   "cell_type": "code",
   "execution_count": 25,
   "metadata": {},
   "outputs": [
    {
     "data": {
      "text/plain": [
       "Index(['TV', 'radio', 'newspaper', 'sales'], dtype='object')"
      ]
     },
     "execution_count": 25,
     "metadata": {},
     "output_type": "execute_result"
    }
   ],
   "source": [
    "data.columns"
   ]
  },
  {
   "cell_type": "code",
   "execution_count": 26,
   "metadata": {},
   "outputs": [],
   "source": [
    "columns=['TV', 'radio', 'newspaper', 'sales']"
   ]
  },
  {
   "cell_type": "code",
   "execution_count": 27,
   "metadata": {},
   "outputs": [],
   "source": [
    "collist=data.columns.values\n",
    "ncol=4\n",
    "nrows=10"
   ]
  },
  {
   "cell_type": "code",
   "execution_count": 28,
   "metadata": {},
   "outputs": [
    {
     "data": {
      "image/png": "[encoded data removed]",
      "text/plain": [
       "<Figure size 432x288 with 1 Axes>"
      ]
     },
     "metadata": {
      "needs_background": "light"
     },
     "output_type": "display_data"
    },
    {
     "data": {
      "image/png": "[encoded data removed]",
      "text/plain": [
       "<Figure size 432x288 with 1 Axes>"
      ]
     },
     "metadata": {
      "needs_background": "light"
     },
     "output_type": "display_data"
    },
    {
     "data": {
      "image/png": "[encoded data removed]",
      "text/plain": [
       "<Figure size 432x288 with 1 Axes>"
      ]
     },
     "metadata": {
      "needs_background": "light"
     },
     "output_type": "display_data"
    },
    {
     "data": {
      "image/png": "[encoded data removed]",
      "text/plain": [
       "<Figure size 432x288 with 1 Axes>"
      ]
     },
     "metadata": {
      "needs_background": "light"
     },
     "output_type": "display_data"
    }
   ],
   "source": [
    "def dtp(a):\n",
    "    plt.figure()\n",
    "    sns.distplot(data[columns[a]],color='black',bins=5)\n",
    "    \n",
    "for i in range(0,4):\n",
    "    dtp(i)"
   ]
  },
  {
   "cell_type": "markdown",
   "metadata": {},
   "source": [
    "The data looks almost normally distributed. some skewness present can be removed through skewness removal technique"
   ]
  },
  {
   "cell_type": "markdown",
   "metadata": {},
   "source": [
    "# Detecting Outliers"
   ]
  },
  {
   "cell_type": "code",
   "execution_count": 30,
   "metadata": {},
   "outputs": [
    {
     "data": {
      "image/png": "[encoded data removed]",
      "text/plain": [
       "<Figure size 432x288 with 1 Axes>"
      ]
     },
     "metadata": {
      "needs_background": "light"
     },
     "output_type": "display_data"
    },
    {
     "data": {
      "image/png": "[encoded data removed]",
      "text/plain": [
       "<Figure size 432x288 with 1 Axes>"
      ]
     },
     "metadata": {
      "needs_background": "light"
     },
     "output_type": "display_data"
    },
    {
     "data": {
      "image/png": "[encoded data removed]",
      "text/plain": [
       "<Figure size 432x288 with 1 Axes>"
      ]
     },
     "metadata": {
      "needs_background": "light"
     },
     "output_type": "display_data"
    },
    {
     "data": {
      "image/png": "[encoded data removed]",
      "text/plain": [
       "<Figure size 432x288 with 1 Axes>"
      ]
     },
     "metadata": {
      "needs_background": "light"
     },
     "output_type": "display_data"
    }
   ],
   "source": [
    "def bxplt(a):\n",
    "    plt.figure()\n",
    "    sns.boxplot(data[columns[a]],color='green')\n",
    "    \n",
    "for i in range(0,4):\n",
    "    bxplt(i)\n"
   ]
  },
  {
   "cell_type": "markdown",
   "metadata": {},
   "source": [
    "There are 2 outliers present only at newspaper column which can be removed"
   ]
  },
  {
   "cell_type": "markdown",
   "metadata": {},
   "source": [
    "# Checking distribution relationship"
   ]
  },
  {
   "cell_type": "code",
   "execution_count": 31,
   "metadata": {},
   "outputs": [
    {
     "data": {
      "image/png": "[encoded data removed]",
      "text/plain": [
       "<Figure size 432x288 with 1 Axes>"
      ]
     },
     "metadata": {
      "needs_background": "light"
     },
     "output_type": "display_data"
    },
    {
     "data": {
      "image/png": "[encoded data removed]",
      "text/plain": [
       "<Figure size 432x288 with 1 Axes>"
      ]
     },
     "metadata": {
      "needs_background": "light"
     },
     "output_type": "display_data"
    },
    {
     "data": {
      "image/png": "[encoded data removed]",
      "text/plain": [
       "<Figure size 432x288 with 1 Axes>"
      ]
     },
     "metadata": {
      "needs_background": "light"
     },
     "output_type": "display_data"
    }
   ],
   "source": [
    "#relationship for each feature name with the output\n",
    "\n",
    "def stp(a):\n",
    "    plt.figure()\n",
    "    sns.scatterplot(x=data[columns[a]],y=data['sales'],color='Brown')\n",
    "    \n",
    "for i in range(0,3):\n",
    "    stp(i)"
   ]
  },
  {
   "cell_type": "markdown",
   "metadata": {},
   "source": [
    "This clearly shows as Investment increases in each channel also increases the Sales (or) vice versa"
   ]
  },
  {
   "cell_type": "code",
   "execution_count": 34,
   "metadata": {},
   "outputs": [
    {
     "data": {
      "text/plain": [
       "<seaborn.axisgrid.PairGrid at 0x186d7e1c580>"
      ]
     },
     "execution_count": 34,
     "metadata": {},
     "output_type": "execute_result"
    },
    {
     "data": {
      "image/png": "[encoded data removed]",
      "text/plain": [
       "<Figure size 720x720 with 20 Axes>"
      ]
     },
     "metadata": {
      "needs_background": "light"
     },
     "output_type": "display_data"
    }
   ],
   "source": [
    "#entire column visulaization\n",
    "sns.pairplot(data)"
   ]
  },
  {
   "cell_type": "markdown",
   "metadata": {},
   "source": [
    "This clearly shows as Investment increases in each channel also increases the Sales (or) vice versa"
   ]
  },
  {
   "cell_type": "markdown",
   "metadata": {},
   "source": [
    "Positive relationship is there in most of the data"
   ]
  },
  {
   "cell_type": "code",
   "execution_count": 35,
   "metadata": {},
   "outputs": [],
   "source": [
    "#data cleaning and data analysis done"
   ]
  },
  {
   "cell_type": "markdown",
   "metadata": {},
   "source": [
    "# Removing outliers"
   ]
  },
  {
   "cell_type": "code",
   "execution_count": 90,
   "metadata": {
    "scrolled": false
   },
   "outputs": [
    {
     "data": {
      "text/plain": [
       "array([[0.97869734, 0.98952135, 1.93299778, 1.56651666],\n",
       "       [1.19901165, 1.09070498, 0.75131275, 0.69088101],\n",
       "       [1.51933199, 1.53591293, 1.93790103, 0.90311498],\n",
       "       [0.05645636, 1.22561648, 1.40834924, 0.87193276],\n",
       "       [0.40024339, 0.83178391, 1.40344598, 0.20853108],\n",
       "       [1.61906543, 1.73828018, 2.2173867 , 1.30828892],\n",
       "       [1.04647815, 0.6522426 , 0.30779084, 0.42076505],\n",
       "       [0.31079737, 0.23817331, 0.89127846, 0.15064909],\n",
       "       [1.62023876, 1.41864895, 1.41102374, 1.77134485],\n",
       "       [0.62317696, 1.38492107, 0.42056576, 0.65229302],\n",
       "       [0.94557138, 1.16906267, 0.27346804, 1.03817296],\n",
       "       [0.79800381, 0.05863199, 1.26392602, 0.65969879],\n",
       "       [1.44189191, 0.80739083, 1.77119028, 0.92240898],\n",
       "       [0.57714432, 1.04764232, 1.10702179, 0.82593899],\n",
       "       [0.67363035, 0.65898817, 0.79544207, 0.96840275],\n",
       "       [0.57155024, 1.65733328, 1.13376683, 1.62439865],\n",
       "       [1.58061798, 1.1109417 , 1.27596129, 2.01027859],\n",
       "       [0.90919801, 0.17746313, 0.56276022, 0.51723504],\n",
       "       [0.0071763 , 0.05188642, 0.52353416, 0.11946687],\n",
       "       [0.84141719, 0.30821827, 1.15828311, 0.77546277],\n",
       "       [1.06435076, 1.21628169, 0.30779084, 0.28570707],\n",
       "       [1.56626537, 0.48775959, 0.97195933, 1.61699287],\n",
       "       [0.95757732, 0.42030384, 0.17540289, 0.29311285],\n",
       "       [0.99015809, 0.71036356, 0.56276022, 0.82593899],\n",
       "       [1.36355108, 1.32421089, 0.50392113, 0.38217705],\n",
       "       [0.04445042, 0.41614747, 0.84224589, 0.19664286],\n",
       "       [1.0960308 , 0.43379499, 0.33721038, 0.37028883],\n",
       "       [1.19811091, 0.26774482, 0.33721038, 0.94910875],\n",
       "       [0.89277132, 0.48101401, 0.54047269, 0.67158701],\n",
       "       [1.71555146, 0.34869172, 0.65815086, 1.43145868],\n",
       "       [0.39645079, 0.38657596, 0.43260102, 0.40147105],\n",
       "       [0.58066432, 1.4591224 , 0.01092089, 0.84523299],\n",
       "       [1.39523112, 0.21119101, 1.44534654, 0.65969879],\n",
       "       [0.59826434, 1.46586797, 1.09721527, 0.86452698],\n",
       "       [1.6897381 , 1.28373744, 1.04327944, 0.22782508],\n",
       "       [1.41048447, 1.39425586, 1.21489345, 2.20321856],\n",
       "       [0.8446646 , 1.77200806, 0.7807323 , 0.13876087],\n",
       "       [1.21543833, 0.24076252, 0.26098702, 0.748763  ],\n",
       "       [0.95405731, 0.98277578, 0.10898604, 1.45075268],\n",
       "       [0.65485699, 0.05604278, 0.08937301, 0.50534681],\n",
       "       [0.35565668, 0.69271605, 0.43750428, 0.6018168 ],\n",
       "       [1.7237648 , 0.30821827, 1.37179768, 1.2964007 ],\n",
       "       [0.70648372, 0.99367772, 0.16559637, 0.20853108],\n",
       "       [1.42663856, 0.17330677, 0.66305412, 1.05746696],\n",
       "       [0.33336332, 0.04255163, 0.08446975, 0.17734886],\n",
       "       [0.66866442, 0.89249409, 0.29040656, 0.65229302],\n",
       "       [1.09368413, 1.23910763, 0.5529537 , 1.77875063],\n",
       "       [0.94467064, 0.49450516, 0.98666911, 0.15805487],\n",
       "       [0.9361847 , 0.77107374, 0.34434239, 0.82593899],\n",
       "       [0.62317696, 1.35119319, 0.23647073, 0.49794104],\n",
       "       [0.54311762, 0.91273082, 1.28353905, 0.63299902],\n",
       "       [0.8179505 , 1.25259878, 0.4816336 , 1.66298664],\n",
       "       [0.42136341, 1.55614966, 1.41815575, 1.39287068],\n",
       "       [1.36120441, 0.3824196 , 0.6804384 , 1.19993071],\n",
       "       [0.61261695, 1.77200806, 1.4818981 , 1.87522061],\n",
       "       [1.63549211, 0.33520057, 0.56989223, 1.63628687],\n",
       "       [0.12306383, 0.26515561, 0.64611559, 0.15064909],\n",
       "       [0.75224376, 1.78549921, 0.38847171, 1.89451461],\n",
       "       [0.75107043, 0.42963862, 1.00405338, 0.85263876],\n",
       "       [1.09341154, 1.42539452, 0.41075924, 1.13464294],\n",
       "       [1.34477773, 1.32005453, 1.22202546, 1.9716906 ],\n",
       "       [1.08664412, 0.51474189, 0.12146706, 0.33170084],\n",
       "       [0.51613092, 0.4363842 , 1.0481827 , 0.00370289],\n",
       "       [0.1829039 , 1.32680011, 0.04301494, 0.77546277],\n",
       "       [0.91154467, 0.93296754, 1.415927  , 0.90311498],\n",
       "       [1.35154514, 0.09910544, 1.35218465, 0.86452698],\n",
       "       [0.08669046, 0.58219764, 0.95992407, 0.11206109],\n",
       "       [1.06435076, 0.29472712, 0.92069801, 0.94910875],\n",
       "       [0.82264384, 1.40100143, 0.12637031, 1.60510465],\n",
       "       [0.61496362, 0.50383995, 0.43750428, 0.83334477],\n",
       "       [0.43282416, 0.59568879, 0.09427627, 0.30500107],\n",
       "       [1.40669187, 0.66573375, 0.51372765, 0.99958496],\n",
       "       [0.20285059, 1.17580824, 0.07466324, 0.57511703],\n",
       "       [0.78275046, 0.09910544, 0.8177296 , 0.5825228 ],\n",
       "       [1.52285199, 1.38751028, 2.92345576, 1.01887896],\n",
       "       [1.39847853, 1.45237682, 0.44508204, 1.36617091],\n",
       "       [0.30727736, 0.36218287, 0.76379377, 0.04229088],\n",
       "       [1.65778547, 0.45662092, 0.99915012, 1.67487486],\n",
       "       [0.36007742, 1.04089674, 0.32740387, 0.57511703],\n",
       "       [0.82471792, 0.24076252, 0.36662993, 0.42076505],\n",
       "       [1.09251079, 1.28373744, 0.34924565, 0.32429506],\n",
       "       [0.8376246 , 0.19095428, 0.13350233, 0.51723504],\n",
       "       [0.91858468, 1.44147488, 0.2855033 , 0.0734731 ],\n",
       "       [0.7839238 , 1.34029126, 0.19724467, 1.48934067],\n",
       "       [0.54573688, 0.31912021, 1.76138377, 0.23523085],\n",
       "       [0.82589125, 0.29472712, 0.67553514, 0.38217705],\n",
       "       [0.42226415, 1.17839745, 1.63880233, 0.38958283],\n",
       "       [0.6850911 , 0.15981562, 2.13893458, 0.20853108],\n",
       "       [0.43282416, 1.66407886, 1.06021797, 0.52464081],\n",
       "       [0.14535719, 1.22977284, 1.00405338, 0.53652903],\n",
       "       [1.38557185, 1.4591224 , 0.15801861, 1.28899492],\n",
       "       [0.83320385, 0.69946162, 1.43286552, 1.04557874],\n",
       "       [1.22275093, 0.90182888, 2.08499875, 1.58581066],\n",
       "       [0.46098419, 0.61592551, 0.92560126, 0.47864704],\n",
       "       [0.19490984, 0.5712957 , 1.13376683, 0.56322881],\n",
       "       [0.5973636 , 1.32421089, 1.17076413, 0.44005905],\n",
       "       [0.44835011, 0.14373526, 0.3813397 , 0.29311285],\n",
       "       [1.67800475, 1.29307223, 1.05041145, 2.20321856],\n",
       "       [0.13479718, 1.25259878, 0.79053881, 0.6211108 ],\n",
       "       [0.88835058, 1.27024629, 0.98176585, 0.44005905],\n",
       "       [1.56653796, 0.87900294, 0.41075924, 0.15805487],\n",
       "       [0.48355014, 0.40006711, 0.58237325, 0.13876087],\n",
       "       [1.07373744, 0.75342622, 1.20018368, 1.2964007 ],\n",
       "       [0.10311715, 1.56964081, 1.43286552, 1.00699074],\n",
       "       [1.42781189, 0.81829276, 0.00378888, 1.30828892],\n",
       "       [0.66045107, 1.5400693 , 0.32250061, 1.01887896],\n",
       "       [1.56743871, 1.53332372, 0.20482243, 1.67487486],\n",
       "       [1.27555099, 0.25425367, 1.19037716, 1.12275472],\n",
       "       [0.92824395, 1.00716887, 1.31028409, 0.11206109],\n",
       "       [1.11480415, 1.0030125 , 0.32250061, 1.50863467],\n",
       "       [0.34040333, 0.52148746, 1.34237814, 0.02299689],\n",
       "       [0.73816375, 0.17071756, 0.93540778, 0.37028883],\n",
       "       [0.80359789, 1.59662311, 0.23156747, 0.11946687],\n",
       "       [0.83997127, 0.80064525, 1.12396031, 0.26641307],\n",
       "       [0.0878638 , 0.59568879, 0.20482243, 0.34358906],\n",
       "       [0.82471792, 1.50634142, 0.73437423, 0.88382098],\n",
       "       [0.24626397, 0.92881118, 2.42332351, 0.37028883],\n",
       "       [1.49351863, 0.48101401, 0.36662993, 1.4240529 ],\n",
       "       [0.06322377, 0.2475081 , 0.80524858, 0.29311285],\n",
       "       [1.50055864, 0.09651623, 1.01118539, 1.34687691],\n",
       "       [0.90712393, 1.39841222, 0.69514817, 0.45935304],\n",
       "       [0.27677067, 0.77366295, 0.8520524 , 0.23523085],\n",
       "       [0.97165733, 0.61851472, 2.17816064, 1.10346073],\n",
       "       [0.69799778, 0.76432816, 0.19011266, 0.65229302],\n",
       "       [1.62962544, 1.06372268, 1.02099191, 1.4240529 ],\n",
       "       [0.7801312 , 1.56030602, 1.00895664, 0.99958496],\n",
       "       [0.86371055, 1.74502576, 1.30315208, 2.06816058],\n",
       "       [1.02183813, 0.75083701, 0.65324761, 0.82593899],\n",
       "       [1.7129322 , 1.1109417 , 1.03347293, 2.38875276],\n",
       "       [1.39053778, 1.36468434, 0.64834435, 0.24711907],\n",
       "       [1.62258543, 0.2744904 , 1.35708791, 1.59769888],\n",
       "       [0.85784388, 0.69946162, 0.75131275, 1.08416673],\n",
       "       [1.28818508, 1.04348595, 1.75648051, 0.61370502],\n",
       "       [1.15442493, 1.61011426, 1.04327944, 0.45935304],\n",
       "       [1.42077188, 1.07046825, 1.00405338, 0.86452698],\n",
       "       [1.49027122, 0.38916517, 1.46718833, 1.3156947 ],\n",
       "       [1.21661167, 0.18679792, 0.45488856, 0.84523299],\n",
       "       [0.44835011, 1.40100143, 1.37670094, 1.2964007 ],\n",
       "       [0.85991795, 0.41355826, 0.82753612, 0.59441102],\n",
       "       [0.55160355, 0.82762755, 2.24680625, 1.00699074],\n",
       "       [0.86605722, 0.6792249 , 0.39827822, 1.18063672],\n",
       "       [0.49383756, 1.17580824, 0.22666422, 0.69088101],\n",
       "       [0.59239767, 0.56196091, 0.4473108 , 0.49794104],\n",
       "       [0.07495712, 1.4321401 , 1.01876315, 0.71017501],\n",
       "       [1.0960308 , 1.06787904, 1.03347293, 0.15064909],\n",
       "       [1.13240417, 1.74502576, 0.71208669, 2.20321856],\n",
       "       [1.2752784 , 1.15816073, 0.87656869, 0.59441102],\n",
       "       [1.19666498, 0.18005234, 0.4499853 , 0.748763  ],\n",
       "       [1.57240464, 0.62267109, 0.35414891, 0.40887683],\n",
       "       [0.30141069, 0.99367772, 0.92783002, 0.45935304],\n",
       "       [0.5973636 , 0.01141297, 0.76379377, 0.50534681],\n",
       "       [0.2887766 , 1.11768728, 0.38847171, 0.96840275],\n",
       "       [0.48237681, 0.13698968, 0.99424687, 0.31240684],\n",
       "       [1.67303882, 0.77781931, 1.18057065, 2.08004881],\n",
       "       [0.61938436, 1.37401913, 1.01608865, 0.25452485],\n",
       "       [0.03650967, 1.47261355, 0.26856478, 0.748763  ],\n",
       "       [1.58386539, 0.92881118, 0.75621601, 1.28899492],\n",
       "       [0.17586389, 0.31912021, 0.23647073, 0.20853108],\n",
       "       [0.30285662, 0.33935694, 0.04524369, 0.08087888],\n",
       "       [0.7155978 , 0.85460985, 0.95724956, 0.13135509],\n",
       "       [0.48941682, 0.33935694, 0.20482243, 0.17734886],\n",
       "       [0.19725651, 0.9220656 , 1.09721527, 0.77546277],\n",
       "       [0.34599741, 0.56870649, 1.19528042, 0.40147105],\n",
       "       [1.03032406, 1.33095647, 2.69790592, 0.40147105],\n",
       "       [1.51111865, 0.9760302 , 0.40095273, 1.15393694],\n",
       "       [0.70531038, 1.20953612, 0.50882439, 0.34358906],\n",
       "       [0.80621716, 0.03164969, 1.36421992, 0.6018168 ],\n",
       "       [1.61464468, 0.84527507, 1.14624784, 0.19664286],\n",
       "       [1.13447825, 0.77781931, 0.55785696, 1.07676095],\n",
       "       [0.20898985, 0.15048083, 0.86408767, 0.10017287],\n",
       "       [1.49117196, 0.20444543, 0.62650256, 1.23111293],\n",
       "       [0.2547499 , 1.08137019, 0.83243937, 0.44005905],\n",
       "       [0.88835058, 1.33095647, 0.8177296 , 0.47864704],\n",
       "       [1.52781792, 1.73828018, 0.58950526, 2.51192252],\n",
       "       [1.19341757, 0.47685765, 0.46469507, 1.19993071],\n",
       "       [0.27586992, 1.03415117, 0.26589027, 0.44005905],\n",
       "       [1.52547125, 1.4051578 , 0.29798432, 0.42076505],\n",
       "       [0.22189653, 0.88574852, 0.59708302, 0.26641307],\n",
       "       [0.11629642, 1.38492107, 1.05308596, 0.67158701],\n",
       "       [0.84259053, 1.19604497, 0.1165638 , 0.34358906],\n",
       "       [1.0617315 , 1.17580824, 0.00378888, 1.01887896],\n",
       "       [1.65336472, 1.34029126, 2.06048247, 2.35757054],\n",
       "       [1.25677764, 0.12349853, 0.01092089, 0.69828679],\n",
       "       [0.68419036, 1.48194833, 0.49901787, 1.66298664],\n",
       "       [0.08434379, 1.41864895, 0.15578986, 0.71017501],\n",
       "       [0.52109685, 0.37567402, 0.56766348, 0.64040479],\n",
       "       [1.63459137, 0.62267109, 1.27863579, 0.37028883],\n",
       "       [1.50173197, 0.74409144, 0.31269409, 1.4047589 ],\n",
       "       [1.25767838, 1.21212533, 1.17566739, 0.61370502],\n",
       "       [0.83527793, 0.83178391, 1.16586087, 0.787351  ],\n",
       "       [1.51933199, 1.28373744, 0.08937301, 1.55911088],\n",
       "       [0.23597655, 1.2728355 , 1.28353905, 1.08416673],\n",
       "       [0.03533633, 0.8411187 , 1.16586087, 0.64040479],\n",
       "       [1.27293173, 1.31071974, 0.7834068 , 1.23111293],\n",
       "       [0.61586436, 1.22977284, 1.06289247, 0.82593899],\n",
       "       [0.35565668, 0.93296754, 1.14624784, 0.22782508],\n",
       "       [1.60643134, 1.2728355 , 1.78590005, 2.22251256],\n",
       "       [1.00216403, 0.98018657, 1.03347293, 0.11206109]])"
      ]
     },
     "execution_count": 90,
     "metadata": {},
     "output_type": "execute_result"
    }
   ],
   "source": [
    "#zscore\n",
    "\n",
    "from scipy.stats import zscore\n",
    "z=np.abs(zscore(data))\n",
    "z"
   ]
  },
  {
   "cell_type": "code",
   "execution_count": 37,
   "metadata": {},
   "outputs": [
    {
     "name": "stdout",
     "output_type": "stream",
     "text": [
      "(array([ 16, 101], dtype=int64), array([2, 2], dtype=int64))\n"
     ]
    }
   ],
   "source": [
    "threshold=3\n",
    "print(np.where(z>3))"
   ]
  },
  {
   "cell_type": "markdown",
   "metadata": {},
   "source": [
    "This are the 2 outliers seen in boxplot graph. we can remove it"
   ]
  },
  {
   "cell_type": "code",
   "execution_count": 38,
   "metadata": {},
   "outputs": [
    {
     "data": {
      "text/plain": [
       "3.8411707150992718"
      ]
     },
     "execution_count": 38,
     "metadata": {},
     "output_type": "execute_result"
    }
   ],
   "source": [
    "z[16][2]"
   ]
  },
  {
   "cell_type": "code",
   "execution_count": 39,
   "metadata": {},
   "outputs": [
    {
     "data": {
      "text/plain": [
       "3.238153957342154"
      ]
     },
     "execution_count": 39,
     "metadata": {},
     "output_type": "execute_result"
    }
   ],
   "source": [
    "z[101][2]"
   ]
  },
  {
   "cell_type": "code",
   "execution_count": 40,
   "metadata": {},
   "outputs": [],
   "source": [
    "df_new=data[(z<3).all(axis=1)]"
   ]
  },
  {
   "cell_type": "code",
   "execution_count": 41,
   "metadata": {},
   "outputs": [
    {
     "data": {
      "text/plain": [
       "(200, 4)"
      ]
     },
     "execution_count": 41,
     "metadata": {},
     "output_type": "execute_result"
    }
   ],
   "source": [
    "data.shape"
   ]
  },
  {
   "cell_type": "code",
   "execution_count": 42,
   "metadata": {},
   "outputs": [
    {
     "data": {
      "text/plain": [
       "(198, 4)"
      ]
     },
     "execution_count": 42,
     "metadata": {},
     "output_type": "execute_result"
    }
   ],
   "source": [
    "df_new.shape"
   ]
  },
  {
   "cell_type": "code",
   "execution_count": 43,
   "metadata": {},
   "outputs": [],
   "source": [
    "outliers_removed= 2"
   ]
  },
  {
   "cell_type": "code",
   "execution_count": 44,
   "metadata": {},
   "outputs": [
    {
     "name": "stdout",
     "output_type": "stream",
     "text": [
      "Total outlier removed is  2\n"
     ]
    }
   ],
   "source": [
    "print(\"Total outlier removed is \",outliers_removed)"
   ]
  },
  {
   "cell_type": "code",
   "execution_count": 45,
   "metadata": {},
   "outputs": [],
   "source": [
    "Percentageloss= outliers_removed/4177*100"
   ]
  },
  {
   "cell_type": "code",
   "execution_count": 46,
   "metadata": {},
   "outputs": [
    {
     "name": "stdout",
     "output_type": "stream",
     "text": [
      "Data loss percentage is  0.047881254488867604\n"
     ]
    }
   ],
   "source": [
    "print(\"Data loss percentage is \",Percentageloss)"
   ]
  },
  {
   "cell_type": "code",
   "execution_count": 47,
   "metadata": {},
   "outputs": [],
   "source": [
    "data=df_new"
   ]
  },
  {
   "cell_type": "code",
   "execution_count": 48,
   "metadata": {},
   "outputs": [
    {
     "data": {
      "text/plain": [
       "(198, 4)"
      ]
     },
     "execution_count": 48,
     "metadata": {},
     "output_type": "execute_result"
    }
   ],
   "source": [
    "data.shape"
   ]
  },
  {
   "cell_type": "markdown",
   "metadata": {},
   "source": [
    "# Skewness Removal"
   ]
  },
  {
   "cell_type": "code",
   "execution_count": 49,
   "metadata": {},
   "outputs": [],
   "source": [
    "#initialising x and y\n",
    "\n",
    "x=data.drop('sales',axis=1)\n",
    "y=data['sales']"
   ]
  },
  {
   "cell_type": "code",
   "execution_count": 50,
   "metadata": {},
   "outputs": [
    {
     "data": {
      "text/plain": [
       "TV          -0.082332\n",
       "radio        0.114842\n",
       "newspaper    0.650112\n",
       "dtype: float64"
      ]
     },
     "execution_count": 50,
     "metadata": {},
     "output_type": "execute_result"
    }
   ],
   "source": [
    "x.skew()"
   ]
  },
  {
   "cell_type": "code",
   "execution_count": 51,
   "metadata": {},
   "outputs": [],
   "source": [
    "x['newspaper']=np.sqrt(x['newspaper'])"
   ]
  },
  {
   "cell_type": "code",
   "execution_count": 52,
   "metadata": {},
   "outputs": [
    {
     "data": {
      "text/plain": [
       "TV          -0.082332\n",
       "radio        0.114842\n",
       "newspaper   -0.040649\n",
       "dtype: float64"
      ]
     },
     "execution_count": 52,
     "metadata": {},
     "output_type": "execute_result"
    }
   ],
   "source": [
    "x.skew()"
   ]
  },
  {
   "cell_type": "markdown",
   "metadata": {},
   "source": [
    "The skewness are in pretty acceptable range now"
   ]
  },
  {
   "cell_type": "markdown",
   "metadata": {},
   "source": [
    "As all the datas are in float. we need not scale data in this dataset"
   ]
  },
  {
   "cell_type": "markdown",
   "metadata": {},
   "source": [
    "No columns need to be dropped as all records has its own impact"
   ]
  },
  {
   "cell_type": "markdown",
   "metadata": {},
   "source": [
    "-----------------------------------------------------END OF EDA----------------------------------------------------------------------------------------------------"
   ]
  },
  {
   "cell_type": "markdown",
   "metadata": {},
   "source": [
    "# Model Building"
   ]
  },
  {
   "cell_type": "code",
   "execution_count": 53,
   "metadata": {},
   "outputs": [
    {
     "data": {
      "text/html": [
       "<div>\n",
       "<style scoped>\n",
       "    .dataframe tbody tr th:only-of-type {\n",
       "        vertical-align: middle;\n",
       "    }\n",
       "\n",
       "    .dataframe tbody tr th {\n",
       "        vertical-align: top;\n",
       "    }\n",
       "\n",
       "    .dataframe thead th {\n",
       "        text-align: right;\n",
       "    }\n",
       "</style>\n",
       "<table border=\"1\" class=\"dataframe\">\n",
       "  <thead>\n",
       "    <tr style=\"text-align: right;\">\n",
       "      <th></th>\n",
       "      <th>TV</th>\n",
       "      <th>radio</th>\n",
       "      <th>newspaper</th>\n",
       "    </tr>\n",
       "  </thead>\n",
       "  <tbody>\n",
       "    <tr>\n",
       "      <th>0</th>\n",
       "      <td>230.1</td>\n",
       "      <td>37.8</td>\n",
       "      <td>8.318654</td>\n",
       "    </tr>\n",
       "    <tr>\n",
       "      <th>1</th>\n",
       "      <td>44.5</td>\n",
       "      <td>39.3</td>\n",
       "      <td>6.715653</td>\n",
       "    </tr>\n",
       "    <tr>\n",
       "      <th>2</th>\n",
       "      <td>17.2</td>\n",
       "      <td>45.9</td>\n",
       "      <td>8.324662</td>\n",
       "    </tr>\n",
       "    <tr>\n",
       "      <th>3</th>\n",
       "      <td>151.5</td>\n",
       "      <td>41.3</td>\n",
       "      <td>7.648529</td>\n",
       "    </tr>\n",
       "    <tr>\n",
       "      <th>4</th>\n",
       "      <td>180.8</td>\n",
       "      <td>10.8</td>\n",
       "      <td>7.641989</td>\n",
       "    </tr>\n",
       "  </tbody>\n",
       "</table>\n",
       "</div>"
      ],
      "text/plain": [
       "      TV  radio  newspaper\n",
       "0  230.1   37.8   8.318654\n",
       "1   44.5   39.3   6.715653\n",
       "2   17.2   45.9   8.324662\n",
       "3  151.5   41.3   7.648529\n",
       "4  180.8   10.8   7.641989"
      ]
     },
     "execution_count": 53,
     "metadata": {},
     "output_type": "execute_result"
    }
   ],
   "source": [
    "#x,y already initialized\n",
    "x.head()"
   ]
  },
  {
   "cell_type": "code",
   "execution_count": 54,
   "metadata": {},
   "outputs": [
    {
     "data": {
      "text/plain": [
       "(198, 3)"
      ]
     },
     "execution_count": 54,
     "metadata": {},
     "output_type": "execute_result"
    }
   ],
   "source": [
    "x.shape"
   ]
  },
  {
   "cell_type": "code",
   "execution_count": 55,
   "metadata": {},
   "outputs": [
    {
     "data": {
      "text/plain": [
       "(198,)"
      ]
     },
     "execution_count": 55,
     "metadata": {},
     "output_type": "execute_result"
    }
   ],
   "source": [
    "y.shape"
   ]
  },
  {
   "cell_type": "code",
   "execution_count": 56,
   "metadata": {},
   "outputs": [
    {
     "name": "stdout",
     "output_type": "stream",
     "text": [
      "Best accuracy is  0.9291158078262846  on random_state  84\n"
     ]
    }
   ],
   "source": [
    "#finding best random_state\n",
    "from sklearn.linear_model import LinearRegression\n",
    "from sklearn.metrics import mean_absolute_error,mean_squared_error,r2_score\n",
    "maxAccu=0\n",
    "maxRS=0\n",
    "for i in range(1,200):\n",
    "    x_train,x_test,y_train,y_test=train_test_split(x,y,test_size=.33,random_state=i)\n",
    "    LR=LinearRegression()\n",
    "    LR.fit(x_train,y_train)\n",
    "    predrf=LR.predict(x_test)\n",
    "    r2=r2_score(y_test,predrf)\n",
    "    if r2>maxAccu:\n",
    "        maxAccu=r2\n",
    "        maxRS=i\n",
    "print(\"Best accuracy is \",maxAccu,\" on random_state \",maxRS)"
   ]
  },
  {
   "cell_type": "code",
   "execution_count": 57,
   "metadata": {},
   "outputs": [],
   "source": [
    "x_train,x_test,y_train,y_test=train_test_split(x,y,test_size=.33,random_state=84)"
   ]
  },
  {
   "cell_type": "code",
   "execution_count": 58,
   "metadata": {},
   "outputs": [
    {
     "data": {
      "text/plain": [
       "(132, 3)"
      ]
     },
     "execution_count": 58,
     "metadata": {},
     "output_type": "execute_result"
    }
   ],
   "source": [
    "#shapes of x and y (train,test)\n",
    "x_train.shape"
   ]
  },
  {
   "cell_type": "code",
   "execution_count": 59,
   "metadata": {},
   "outputs": [
    {
     "data": {
      "text/plain": [
       "(66, 3)"
      ]
     },
     "execution_count": 59,
     "metadata": {},
     "output_type": "execute_result"
    }
   ],
   "source": [
    "x_test.shape"
   ]
  },
  {
   "cell_type": "code",
   "execution_count": 60,
   "metadata": {},
   "outputs": [
    {
     "data": {
      "text/plain": [
       "(132,)"
      ]
     },
     "execution_count": 60,
     "metadata": {},
     "output_type": "execute_result"
    }
   ],
   "source": [
    "y_train.shape"
   ]
  },
  {
   "cell_type": "code",
   "execution_count": 61,
   "metadata": {},
   "outputs": [
    {
     "data": {
      "text/plain": [
       "(66,)"
      ]
     },
     "execution_count": 61,
     "metadata": {},
     "output_type": "execute_result"
    }
   ],
   "source": [
    "y_test.shape"
   ]
  },
  {
   "cell_type": "code",
   "execution_count": 62,
   "metadata": {},
   "outputs": [],
   "source": [
    "# different algorithm going to use\n",
    "\n",
    "lr=LinearRegression()\n",
    "ri=Ridge()\n",
    "dtr=DecisionTreeRegressor()\n",
    "rfr=RandomForestRegressor(n_estimators=100)\n",
    "adr=AdaBoostRegressor(n_estimators=100)"
   ]
  },
  {
   "cell_type": "code",
   "execution_count": 63,
   "metadata": {},
   "outputs": [],
   "source": [
    "#code for Training and Prediction \n",
    "\n",
    "def eval(x):\n",
    "    mod=x\n",
    "    print(mod)\n",
    "    mod.fit(x_train,y_train)\n",
    "    pred=mod.predict(x_test)\n",
    "    \n",
    "    print(\"r2_score(predicted_train) is \",r2_score(y_train,mod.predict(x_train)))\n",
    "    print(\"\\n\")\n",
    "    print(\"r2_score is :\",r2_score(y_test,pred))\n",
    "    print(\"\\n\")\n",
    "    print(\"intercept is : \",lr.intercept_)\n",
    "    print(\"\\n\")\n",
    "    print(\"Coefficient is  : \",lr.coef_)\n",
    "    print(\"\\n\")\n",
    "    print(\"Score of trained data :\",lr.score(x_train,y_train))\n",
    "    print(\"\\n\")\n",
    "    print(\"Score of test data :\",lr.score(x_test,y_test))\n",
    "    print(\"\\n\")\n",
    "    print(\"Error\")\n",
    "    print(\"mean absolute error : \",mean_absolute_error(y_test,pred))\n",
    "    print(\"mean squared error : \",mean_squared_error(y_test,pred))"
   ]
  },
  {
   "cell_type": "code",
   "execution_count": 64,
   "metadata": {},
   "outputs": [
    {
     "name": "stdout",
     "output_type": "stream",
     "text": [
      "LinearRegression()\n",
      "r2_score(predicted_train) is  0.876330397223334\n",
      "\n",
      "\n",
      "r2_score is : 0.9291158078262846\n",
      "\n",
      "\n",
      "intercept is :  2.6749642888554437\n",
      "\n",
      "\n",
      "Coefficient is  :  [0.0451205  0.18928481 0.03856655]\n",
      "\n",
      "\n",
      "Score of trained data : 0.876330397223334\n",
      "\n",
      "\n",
      "Score of test data : 0.9291158078262846\n",
      "\n",
      "\n",
      "Error\n",
      "mean absolute error :  1.117167267535533\n",
      "mean squared error :  1.974538080431273\n"
     ]
    }
   ],
   "source": [
    "eval(lr)"
   ]
  },
  {
   "cell_type": "markdown",
   "metadata": {},
   "source": [
    "The model learning  has an accuracy of 92.91%"
   ]
  },
  {
   "cell_type": "code",
   "execution_count": 65,
   "metadata": {},
   "outputs": [
    {
     "name": "stdout",
     "output_type": "stream",
     "text": [
      "Ridge()\n",
      "r2_score(predicted_train) is  0.8763303962994229\n",
      "\n",
      "\n",
      "r2_score is : 0.9291184391316294\n",
      "\n",
      "\n",
      "intercept is :  2.6749642888554437\n",
      "\n",
      "\n",
      "Coefficient is  :  [0.0451205  0.18928481 0.03856655]\n",
      "\n",
      "\n",
      "Score of trained data : 0.876330397223334\n",
      "\n",
      "\n",
      "Score of test data : 0.9291158078262846\n",
      "\n",
      "\n",
      "Error\n",
      "mean absolute error :  1.1171380575485692\n",
      "mean squared error :  1.9744647832341817\n"
     ]
    }
   ],
   "source": [
    "eval(ri)"
   ]
  },
  {
   "cell_type": "markdown",
   "metadata": {},
   "source": [
    "The model learning  has an accuracy of 92.91%"
   ]
  },
  {
   "cell_type": "code",
   "execution_count": 66,
   "metadata": {},
   "outputs": [
    {
     "name": "stdout",
     "output_type": "stream",
     "text": [
      "DecisionTreeRegressor()\n",
      "r2_score(predicted_train) is  1.0\n",
      "\n",
      "\n",
      "r2_score is : 0.9550662600955991\n",
      "\n",
      "\n",
      "intercept is :  2.6749642888554437\n",
      "\n",
      "\n",
      "Coefficient is  :  [0.0451205  0.18928481 0.03856655]\n",
      "\n",
      "\n",
      "Score of trained data : 0.876330397223334\n",
      "\n",
      "\n",
      "Score of test data : 0.9291158078262846\n",
      "\n",
      "\n",
      "Error\n",
      "mean absolute error :  0.9166666666666664\n",
      "mean squared error :  1.2516666666666665\n"
     ]
    }
   ],
   "source": [
    "eval(dtr)"
   ]
  },
  {
   "cell_type": "markdown",
   "metadata": {},
   "source": [
    "The model learning  has an accuracy of 95.50%"
   ]
  },
  {
   "cell_type": "code",
   "execution_count": 67,
   "metadata": {},
   "outputs": [
    {
     "name": "stdout",
     "output_type": "stream",
     "text": [
      "RandomForestRegressor()\n",
      "r2_score(predicted_train) is  0.9960106564732294\n",
      "\n",
      "\n",
      "r2_score is : 0.9752950229437943\n",
      "\n",
      "\n",
      "intercept is :  2.6749642888554437\n",
      "\n",
      "\n",
      "Coefficient is  :  [0.0451205  0.18928481 0.03856655]\n",
      "\n",
      "\n",
      "Score of trained data : 0.876330397223334\n",
      "\n",
      "\n",
      "Score of test data : 0.9291158078262846\n",
      "\n",
      "\n",
      "Error\n",
      "mean absolute error :  0.6772424242424229\n",
      "mean squared error :  0.6881776666666658\n"
     ]
    }
   ],
   "source": [
    "eval(rfr)"
   ]
  },
  {
   "cell_type": "markdown",
   "metadata": {},
   "source": [
    "The model learning  has an accuracy of 97.52%"
   ]
  },
  {
   "cell_type": "code",
   "execution_count": 68,
   "metadata": {},
   "outputs": [
    {
     "name": "stdout",
     "output_type": "stream",
     "text": [
      "AdaBoostRegressor(n_estimators=100)\n",
      "r2_score(predicted_train) is  0.9801229270918902\n",
      "\n",
      "\n",
      "r2_score is : 0.9623693662644319\n",
      "\n",
      "\n",
      "intercept is :  2.6749642888554437\n",
      "\n",
      "\n",
      "Coefficient is  :  [0.0451205  0.18928481 0.03856655]\n",
      "\n",
      "\n",
      "Score of trained data : 0.876330397223334\n",
      "\n",
      "\n",
      "Score of test data : 0.9291158078262846\n",
      "\n",
      "\n",
      "Error\n",
      "mean absolute error :  0.859998050445054\n",
      "mean squared error :  1.0482325751776453\n"
     ]
    }
   ],
   "source": [
    "eval(adr)"
   ]
  },
  {
   "cell_type": "markdown",
   "metadata": {},
   "source": [
    "The model learning  has an accuracy of 96.23%"
   ]
  },
  {
   "cell_type": "markdown",
   "metadata": {},
   "source": [
    "# RandomForestRegressor seems to be best model . we can cross check with cross validation score"
   ]
  },
  {
   "cell_type": "code",
   "execution_count": 69,
   "metadata": {},
   "outputs": [
    {
     "name": "stdout",
     "output_type": "stream",
     "text": [
      "LinearRegression() Cross val score is  [0.87927341 0.91751522 0.92568478 0.81065809 0.89557158]\n",
      "mean is  0.8857406146589945\n",
      "Ridge() Cross val score is  [0.87927899 0.91751624 0.92568502 0.81067824 0.89556797]\n",
      "mean is  0.8857452914996807\n",
      "DecisionTreeRegressor() Cross val score is  [0.96584299 0.95491081 0.95416612 0.93778618 0.96416178]\n",
      "mean is  0.955373575505624\n",
      "RandomForestRegressor() Cross val score is  [0.98035355 0.98302063 0.97408776 0.96455134 0.98225263]\n",
      "mean is  0.9768531814869836\n",
      "AdaBoostRegressor(n_estimators=100) Cross val score is  [0.96170709 0.97405702 0.96451659 0.94492123 0.95447275]\n",
      "mean is  0.9599349358484499\n"
     ]
    }
   ],
   "source": [
    "model=[lr,ri,dtr,rfr,adr]\n",
    "\n",
    "for m in model:\n",
    "    score=cross_val_score(m,x,y,cv=5,scoring='r2')\n",
    "    print(m,\"Cross val score is \",score)\n",
    "    print(\"mean is \",score.mean())"
   ]
  },
  {
   "cell_type": "markdown",
   "metadata": {},
   "source": [
    "After analyzing all the score. The minimum difference is on RandomForestRegressor model. We can select this model for further hyper tuning"
   ]
  },
  {
   "cell_type": "code",
   "execution_count": 70,
   "metadata": {},
   "outputs": [
    {
     "data": {
      "text/plain": [
       "0.9960106564732294"
      ]
     },
     "execution_count": 70,
     "metadata": {},
     "output_type": "execute_result"
    }
   ],
   "source": [
    "r2_score(y_train,rfr.predict(x_train)) "
   ]
  },
  {
   "cell_type": "code",
   "execution_count": 71,
   "metadata": {},
   "outputs": [
    {
     "data": {
      "text/plain": [
       "0.9752950229437943"
      ]
     },
     "execution_count": 71,
     "metadata": {},
     "output_type": "execute_result"
    }
   ],
   "source": [
    "r2_score(y_test,rfr.predict(x_test))"
   ]
  },
  {
   "cell_type": "markdown",
   "metadata": {},
   "source": [
    "It is not overfitted model. RandomForestRegressor is considered to be best model 97.52%. Further we can try hypertuning to increase accuracy"
   ]
  },
  {
   "cell_type": "markdown",
   "metadata": {},
   "source": [
    "# Hyperparameter Tuning  --- GridSearchCV"
   ]
  },
  {
   "cell_type": "code",
   "execution_count": 72,
   "metadata": {},
   "outputs": [
    {
     "data": {
      "text/plain": [
       "{'bootstrap': True,\n",
       " 'ccp_alpha': 0.0,\n",
       " 'criterion': 'mse',\n",
       " 'max_depth': None,\n",
       " 'max_features': 'auto',\n",
       " 'max_leaf_nodes': None,\n",
       " 'max_samples': None,\n",
       " 'min_impurity_decrease': 0.0,\n",
       " 'min_impurity_split': None,\n",
       " 'min_samples_leaf': 1,\n",
       " 'min_samples_split': 2,\n",
       " 'min_weight_fraction_leaf': 0.0,\n",
       " 'n_estimators': 100,\n",
       " 'n_jobs': None,\n",
       " 'oob_score': False,\n",
       " 'random_state': None,\n",
       " 'verbose': 0,\n",
       " 'warm_start': False}"
      ]
     },
     "execution_count": 72,
     "metadata": {},
     "output_type": "execute_result"
    }
   ],
   "source": [
    "rfr.get_params()"
   ]
  },
  {
   "cell_type": "code",
   "execution_count": 73,
   "metadata": {},
   "outputs": [],
   "source": [
    "from sklearn.model_selection import GridSearchCV\n",
    "\n",
    "params = {\n",
    "    'max_depth': [5,10, 15, 20, 25, None],    \n",
    "    'min_samples_leaf': [1, 2, 4],\n",
    "    'min_samples_split': [2, 5, 10],\n",
    "    'n_estimators': [25, 50, 100, 200]}\n",
    "\n",
    "grid_search = GridSearchCV(rfr, params, cv = 5)"
   ]
  },
  {
   "cell_type": "code",
   "execution_count": 74,
   "metadata": {},
   "outputs": [
    {
     "data": {
      "text/plain": [
       "GridSearchCV(cv=5, estimator=RandomForestRegressor(),\n",
       "             param_grid={'max_depth': [5, 10, 15, 20, 25, None],\n",
       "                         'min_samples_leaf': [1, 2, 4],\n",
       "                         'min_samples_split': [2, 5, 10],\n",
       "                         'n_estimators': [25, 50, 100, 200]})"
      ]
     },
     "execution_count": 74,
     "metadata": {},
     "output_type": "execute_result"
    }
   ],
   "source": [
    "grid_search.fit(x_train, y_train) "
   ]
  },
  {
   "cell_type": "code",
   "execution_count": 75,
   "metadata": {},
   "outputs": [
    {
     "data": {
      "text/plain": [
       "{'max_depth': 25,\n",
       " 'min_samples_leaf': 1,\n",
       " 'min_samples_split': 2,\n",
       " 'n_estimators': 200}"
      ]
     },
     "execution_count": 75,
     "metadata": {},
     "output_type": "execute_result"
    }
   ],
   "source": [
    "grid_search.best_params_"
   ]
  },
  {
   "cell_type": "code",
   "execution_count": 76,
   "metadata": {},
   "outputs": [],
   "source": [
    "#hrfr= hypertuned random forest regressor\n",
    "hrfr = RandomForestRegressor(max_depth=25, min_samples_leaf=1, min_samples_split=2, n_estimators=200 )"
   ]
  },
  {
   "cell_type": "code",
   "execution_count": 77,
   "metadata": {},
   "outputs": [
    {
     "data": {
      "text/plain": [
       "0.9960292538969105"
      ]
     },
     "execution_count": 77,
     "metadata": {},
     "output_type": "execute_result"
    }
   ],
   "source": [
    "hrfr.fit(x_train, y_train)\n",
    "r2_score(y_train, hrfr.predict(x_train)) "
   ]
  },
  {
   "cell_type": "code",
   "execution_count": 78,
   "metadata": {},
   "outputs": [
    {
     "data": {
      "text/plain": [
       "0.9759484588429205"
      ]
     },
     "execution_count": 78,
     "metadata": {},
     "output_type": "execute_result"
    }
   ],
   "source": [
    "r2_score(y_test, hrfr.predict(x_test)) "
   ]
  },
  {
   "cell_type": "code",
   "execution_count": 79,
   "metadata": {},
   "outputs": [
    {
     "data": {
      "text/plain": [
       "0.9960292538969105"
      ]
     },
     "execution_count": 79,
     "metadata": {},
     "output_type": "execute_result"
    }
   ],
   "source": [
    "hrfr.score(x_train,y_train)"
   ]
  },
  {
   "cell_type": "code",
   "execution_count": 80,
   "metadata": {},
   "outputs": [
    {
     "data": {
      "text/plain": [
       "0.9759484588429205"
      ]
     },
     "execution_count": 80,
     "metadata": {},
     "output_type": "execute_result"
    }
   ],
   "source": [
    "hrfr.score(x_test,y_test)"
   ]
  },
  {
   "cell_type": "code",
   "execution_count": 82,
   "metadata": {},
   "outputs": [
    {
     "name": "stdout",
     "output_type": "stream",
     "text": [
      "RandomForestRegressor(max_depth=25, n_estimators=200) Cross val score is  [0.98074041 0.98468695 0.97370961 0.96063445 0.9806806 ]\n",
      "mean is  0.9760904050513943\n"
     ]
    }
   ],
   "source": [
    "score=cross_val_score(hrfr,x,y,cv=5,scoring='r2')\n",
    "print(hrfr,\"Cross val score is \",score)\n",
    "print(\"mean is \",score.mean())"
   ]
  },
  {
   "cell_type": "markdown",
   "metadata": {},
   "source": [
    "# After hypertuning, The accuracy of the model is increased by margin range of 0.07 percent. But, cross validation score and accuracy are almost same. RandomForestRegressor (Hypertuned model) is chosen to be the best model with 97.6% accuracy\n"
   ]
  },
  {
   "cell_type": "markdown",
   "metadata": {},
   "source": [
    "# RandomForestRegressor Model is the final model"
   ]
  },
  {
   "cell_type": "markdown",
   "metadata": {},
   "source": [
    "# Conclusion"
   ]
  },
  {
   "cell_type": "code",
   "execution_count": 83,
   "metadata": {},
   "outputs": [
    {
     "data": {
      "text/plain": [
       "['rf_sales_prediction.obj']"
      ]
     },
     "execution_count": 83,
     "metadata": {},
     "output_type": "execute_result"
    }
   ],
   "source": [
    "joblib.dump(hrfr,\"rf_sales_prediction.obj\")"
   ]
  },
  {
   "cell_type": "code",
   "execution_count": 84,
   "metadata": {},
   "outputs": [],
   "source": [
    "#Lets Check loading the file \n",
    "\n",
    "saleschannel_prediction=joblib.load(\"rf_sales_prediction.obj\")"
   ]
  },
  {
   "cell_type": "code",
   "execution_count": 85,
   "metadata": {},
   "outputs": [
    {
     "data": {
      "text/plain": [
       "0.9759484588429205"
      ]
     },
     "execution_count": 85,
     "metadata": {},
     "output_type": "execute_result"
    }
   ],
   "source": [
    "saleschannel_prediction.score(x_test,y_test)"
   ]
  },
  {
   "cell_type": "code",
   "execution_count": 86,
   "metadata": {},
   "outputs": [],
   "source": [
    "pred=hrfr.predict(x_test)\n",
    "Conclusion=pd.DataFrame([saleschannel_prediction.predict(x_test)[:],pred[:]],index=[\"Predicted\",\"Original\"])"
   ]
  },
  {
   "cell_type": "code",
   "execution_count": 87,
   "metadata": {},
   "outputs": [
    {
     "data": {
      "text/html": [
       "<div>\n",
       "<style scoped>\n",
       "    .dataframe tbody tr th:only-of-type {\n",
       "        vertical-align: middle;\n",
       "    }\n",
       "\n",
       "    .dataframe tbody tr th {\n",
       "        vertical-align: top;\n",
       "    }\n",
       "\n",
       "    .dataframe thead th {\n",
       "        text-align: right;\n",
       "    }\n",
       "</style>\n",
       "<table border=\"1\" class=\"dataframe\">\n",
       "  <thead>\n",
       "    <tr style=\"text-align: right;\">\n",
       "      <th></th>\n",
       "      <th>0</th>\n",
       "      <th>1</th>\n",
       "      <th>2</th>\n",
       "      <th>3</th>\n",
       "      <th>4</th>\n",
       "      <th>5</th>\n",
       "      <th>6</th>\n",
       "      <th>7</th>\n",
       "      <th>8</th>\n",
       "      <th>9</th>\n",
       "      <th>...</th>\n",
       "      <th>56</th>\n",
       "      <th>57</th>\n",
       "      <th>58</th>\n",
       "      <th>59</th>\n",
       "      <th>60</th>\n",
       "      <th>61</th>\n",
       "      <th>62</th>\n",
       "      <th>63</th>\n",
       "      <th>64</th>\n",
       "      <th>65</th>\n",
       "    </tr>\n",
       "  </thead>\n",
       "  <tbody>\n",
       "    <tr>\n",
       "      <th>Predicted</th>\n",
       "      <td>16.8655</td>\n",
       "      <td>9.123</td>\n",
       "      <td>9.7115</td>\n",
       "      <td>10.8225</td>\n",
       "      <td>12.613</td>\n",
       "      <td>11.016</td>\n",
       "      <td>8.764</td>\n",
       "      <td>18.279</td>\n",
       "      <td>13.74</td>\n",
       "      <td>24.857</td>\n",
       "      <td>...</td>\n",
       "      <td>9.7595</td>\n",
       "      <td>11.1605</td>\n",
       "      <td>19.727</td>\n",
       "      <td>22.0045</td>\n",
       "      <td>9.357</td>\n",
       "      <td>19.626</td>\n",
       "      <td>10.3215</td>\n",
       "      <td>12.712</td>\n",
       "      <td>15.0355</td>\n",
       "      <td>16.9295</td>\n",
       "    </tr>\n",
       "    <tr>\n",
       "      <th>Original</th>\n",
       "      <td>16.8655</td>\n",
       "      <td>9.123</td>\n",
       "      <td>9.7115</td>\n",
       "      <td>10.8225</td>\n",
       "      <td>12.613</td>\n",
       "      <td>11.016</td>\n",
       "      <td>8.764</td>\n",
       "      <td>18.279</td>\n",
       "      <td>13.74</td>\n",
       "      <td>24.857</td>\n",
       "      <td>...</td>\n",
       "      <td>9.7595</td>\n",
       "      <td>11.1605</td>\n",
       "      <td>19.727</td>\n",
       "      <td>22.0045</td>\n",
       "      <td>9.357</td>\n",
       "      <td>19.626</td>\n",
       "      <td>10.3215</td>\n",
       "      <td>12.712</td>\n",
       "      <td>15.0355</td>\n",
       "      <td>16.9295</td>\n",
       "    </tr>\n",
       "  </tbody>\n",
       "</table>\n",
       "<p>2 rows × 66 columns</p>\n",
       "</div>"
      ],
      "text/plain": [
       "                0      1       2        3       4       5      6       7   \\\n",
       "Predicted  16.8655  9.123  9.7115  10.8225  12.613  11.016  8.764  18.279   \n",
       "Original   16.8655  9.123  9.7115  10.8225  12.613  11.016  8.764  18.279   \n",
       "\n",
       "              8       9   ...      56       57      58       59     60  \\\n",
       "Predicted  13.74  24.857  ...  9.7595  11.1605  19.727  22.0045  9.357   \n",
       "Original   13.74  24.857  ...  9.7595  11.1605  19.727  22.0045  9.357   \n",
       "\n",
       "               61       62      63       64       65  \n",
       "Predicted  19.626  10.3215  12.712  15.0355  16.9295  \n",
       "Original   19.626  10.3215  12.712  15.0355  16.9295  \n",
       "\n",
       "[2 rows x 66 columns]"
      ]
     },
     "execution_count": 87,
     "metadata": {},
     "output_type": "execute_result"
    }
   ],
   "source": [
    "Conclusion"
   ]
  },
  {
   "cell_type": "markdown",
   "metadata": {},
   "source": [
    "The model is working well"
   ]
  },
  {
   "cell_type": "markdown",
   "metadata": {},
   "source": [
    "After Training and Testing six algorithm model. The best accuracy model was determined as random forest classifier with 97.6% true accuracy after all the data cleaning, pre-processing, training and prediction as well as evaluation phase."
   ]
  },
  {
   "cell_type": "markdown",
   "metadata": {},
   "source": [
    "Sales prediction by channel can be easily predicted now through this model"
   ]
  },
  {
   "cell_type": "markdown",
   "metadata": {},
   "source": [
    "# Model Created Succesfully"
   ]
  }
 ],
 "metadata": {
  "kernelspec": {
   "display_name": "Python 3",
   "language": "python",
   "name": "python3"
  },
  "language_info": {
   "codemirror_mode": {
    "name": "ipython",
    "version": 3
   },
   "file_extension": ".py",
   "mimetype": "text/x-python",
   "name": "python",
   "nbconvert_exporter": "python",
   "pygments_lexer": "ipython3",
   "version": "3.8.3"
  }
 },
 "nbformat": 4,
 "nbformat_minor": 4
}
